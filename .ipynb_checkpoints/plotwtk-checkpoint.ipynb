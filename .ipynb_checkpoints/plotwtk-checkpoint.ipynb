{
 "cells": [
  {
   "cell_type": "code",
   "execution_count": null,
   "id": "4bda6793-f71c-4a44-ad96-5c60d1b86f66",
   "metadata": {},
   "outputs": [],
   "source": [
    "import tkinter as tk\n",
    "from tkinter import filedialog\n",
    "import nltk\n",
    "import pandas as pd\n",
    "import matplotlib.pyplot as plt\n",
    "from nltk.tokenize import word_tokenize\n",
    "from nltk.probability import FreqDist\n",
    "\n",
    "\n",
    "def process_file(file_path):\n",
    "    with open(file_path, 'r', encoding='utf-8') as file:\n",
    "        text = file.read()\n",
    "\n",
    "    tokens = word_tokenize(text)\n",
    "    fdist = FreqDist(tokens)\n",
    "\n",
    "    data = {'Word': [], 'Frequency': []}\n",
    "    for word, frequency in fdist.most_common():\n",
    "        data['Word'].append(word)\n",
    "        data['Frequency'].append(frequency)\n",
    "    df = pd.DataFrame(data)\n",
    "\n",
    "    plt.figure(figsize=(10, 6))\n",
    "    plt.plot(df['Word'], df['Frequency'])\n",
    "    plt.xlabel('Word')\n",
    "    plt.ylabel('Frequency')\n",
    "    plt.title('Word Frequency Distribution')\n",
    "    plt.xticks(rotation=90)\n",
    "    plt.tight_layout()\n",
    "    plt.show()\n",
    "\n",
    "\n",
    "def browse_file():\n",
    "    file_path = filedialog.askopenfilename(filetypes=[('Text Files', '*.txt')])\n",
    "    if file_path:\n",
    "        process_file(file_path)\n",
    "\n",
    "\n",
    "# Create the main Tkinter window\n",
    "root = tk.Tk()\n",
    "\n",
    "# Create a label and a button in the main window\n",
    "label = tk.Label(root, text=\"Drag and drop a text file here\")\n",
    "label.pack(pady=20)\n",
    "button = tk.Button(root, text=\"Browse\", command=browse_file)\n",
    "button.pack()\n",
    "\n",
    "# Run the Tkinter event loop\n",
    "root.mainloop()\n"
   ]
  },
  {
   "cell_type": "code",
   "execution_count": null,
   "id": "90b32d50-5214-4a52-8634-c462bd87b8a1",
   "metadata": {},
   "outputs": [],
   "source": []
  }
 ],
 "metadata": {
  "kernelspec": {
   "display_name": "Python 3 (ipykernel)",
   "language": "python",
   "name": "python3"
  },
  "language_info": {
   "name": ""
  }
 },
 "nbformat": 4,
 "nbformat_minor": 5
}
